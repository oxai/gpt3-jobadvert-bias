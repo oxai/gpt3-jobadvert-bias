{
 "cells": [
  {
   "cell_type": "code",
   "execution_count": 1,
   "id": "c14cdb51",
   "metadata": {},
   "outputs": [],
   "source": [
    "import pandas as pd\n",
    "import numpy as np\n",
    "import json\n",
    "import re\n",
    "import itertools"
   ]
  },
  {
   "cell_type": "code",
   "execution_count": 2,
   "id": "2f30fbcb",
   "metadata": {},
   "outputs": [],
   "source": [
    "# Resulting word lists of biased words\n",
    "GLOBAL_DICT={'NRC_unweighted':{},\n",
    "             'agency_power_unweighted':{}, \n",
    "             'male_gaucher':{}, 'female_gaucher':{}, \n",
    "             'superlative':{},\n",
    "             'gender-ladenness': {}}"
   ]
  },
  {
   "cell_type": "code",
   "execution_count": 3,
   "id": "6ab20980",
   "metadata": {},
   "outputs": [],
   "source": [
    "# NRC\n",
    "!mkdir -p bias_lists\n",
    "!wget -q -nc -O nrc.zip https://saifmohammad.com/WebDocs/VAD/NRC-VAD-Lexicon-Aug2018Release.zip\n",
    "!unzip -q -n nrc.zip -d bias_lists\n",
    "\n",
    "df=pd.read_csv('bias_lists/NRC-VAD-Lexicon-Aug2018Release/NRC-VAD-Lexicon.txt',delimiter='\\t',names=['valence','arousal','dominance'])\n",
    "df=df.reset_index().rename(columns={'index':'word'})\n",
    "for index, row in df.iterrows():\n",
    "    # Add to unweighted word list if any value > 0.75; values are between 0, 1\n",
    "    if row['valence'] > 0.75 or row['arousal'] > 0.75 or row['dominance'] > 0.75:\n",
    "        GLOBAL_DICT['NRC_unweighted'][row['word']] = 1  \n",
    "\n",
    "# Power agency\n",
    "!wget -q -nc -O pa.zip https://homes.cs.washington.edu/~msap/movie-bias/data/FramesAgencyPower.zip\n",
    "!unzip -q -n pa.zip -d bias_lists\n",
    "\n",
    "df=pd.read_csv('bias_lists/agency_power.csv')\n",
    "\n",
    "def recode_string(s):\n",
    "    if s=='agency_pos': return 1\n",
    "    elif s=='agency_equal': return 0\n",
    "    elif s=='agency_neg': return -1\n",
    "    elif s=='power_agent': return 1\n",
    "    elif s=='power_equal': return 0\n",
    "    elif s=='power_theme': return -1\n",
    "    else: return np.nan\n",
    "\n",
    "for index, row in df.iterrows():\n",
    "    if recode_string(row['agency']) == 1 or recode_string(row['power']) == 1:\n",
    "        GLOBAL_DICT['agency_power_unweighted'][row['verb']] = 1\n",
    "\n",
    "# Gaucher male, female \n",
    "# Manually copied from Gaucher, D., Friesen, J., & Kay, A. C. (2011). Evidence that gendered wording in job advertisements exists and sustains gender inequality. J\n",
    "with open('bias_lists/gaucher_2011_raw_male.txt') as f:\n",
    "    male = [line.rstrip().lower().replace('ⴱ','-') for line in f]\n",
    "\n",
    "with open('bias_lists/gaucher_2011_raw_female.txt') as f:\n",
    "    female = [line.rstrip().lower().replace('ⴱ','-') for line in f]\n",
    "\n",
    "for i in male: \n",
    "    GLOBAL_DICT['male_gaucher'][i]=1\n",
    "\n",
    "for i in female: \n",
    "    GLOBAL_DICT['female_gaucher'][i]=1\n",
    "\n",
    "# Superlatives\n",
    "!wget -q -nc -O bias_lists/superlatives.txt https://raw.githubusercontent.com/prosecconetwork/The-NOC-List/master/NOC/DATA/TSV%20Lists/superlatives.txt\n",
    "\n",
    "df=pd.read_csv('bias_lists/superlatives.txt', sep='\\t')\n",
    "for w in df.Superlative:\n",
    "     GLOBAL_DICT['superlative'][w]=1\n",
    "\n",
    "# Clark genderedness\n",
    "!wget -q -nc -O clark.zip https://static-content.springer.com/esm/art%3A10.3758%2FBF03195584/MediaObjects/Clark-BRM-2004.zip\n",
    "!unzip -q -n clark.zip -d bias_lists\n",
    "\n",
    "df = pd.read_csv('bias_lists/Clark-BRMIC-2004/cp2004a.txt', delim_whitespace=True)\n",
    "df = df[['WORD','GEND']]\n",
    "ddict = {}\n",
    "for word, gend in list(df.itertuples(index=False)):\n",
    "    ddict[word] = gend\n",
    "GLOBAL_DICT['gender-ladenness'] = ddict"
   ]
  },
  {
   "cell_type": "code",
   "execution_count": 4,
   "id": "09c022aa",
   "metadata": {},
   "outputs": [],
   "source": [
    "# Export\n",
    "with open('bias_lists/all_bias_lists.json', 'w') as json_file:\n",
    "    json.dump(GLOBAL_DICT, json_file)"
   ]
  }
 ],
 "metadata": {
  "kernelspec": {
   "display_name": "Python 3 (ipykernel)",
   "language": "python",
   "name": "python3"
  },
  "language_info": {
   "codemirror_mode": {
    "name": "ipython",
    "version": 3
   },
   "file_extension": ".py",
   "mimetype": "text/x-python",
   "name": "python",
   "nbconvert_exporter": "python",
   "pygments_lexer": "ipython3",
   "version": "3.9.5"
  }
 },
 "nbformat": 4,
 "nbformat_minor": 5
}
